{
 "cells": [
  {
   "cell_type": "markdown",
   "id": "6e552de4",
   "metadata": {},
   "source": [
    "# Exploratory Data Analysis\n",
    "\n",
    "## Tasks\n",
    "- Import Dataset\n",
    "- Understand/Inspect Dataset\n",
    "- Data Cleaning\n",
    "- Explore the Dataset\n",
    "    - Univariate Analysis\n",
    "    - Bivariate Analysis\n",
    "    - Multivariate Analysis\n",
    "    - Time Series Analysis"
   ]
  },
  {
   "cell_type": "markdown",
   "id": "62496be5",
   "metadata": {},
   "source": []
  }
 ],
 "metadata": {
  "kernelspec": {
   "display_name": "venv",
   "language": "python",
   "name": "python3"
  },
  "language_info": {
   "codemirror_mode": {
    "name": "ipython",
    "version": 3
   },
   "file_extension": ".py",
   "mimetype": "text/x-python",
   "name": "python",
   "nbconvert_exporter": "python",
   "pygments_lexer": "ipython3",
   "version": "3.12.7"
  }
 },
 "nbformat": 4,
 "nbformat_minor": 5
}
